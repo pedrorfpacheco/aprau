{
 "cells": [
  {
   "cell_type": "markdown",
   "metadata": {},
   "source": [
    "# Assignment"
   ]
  },
  {
   "cell_type": "code",
   "execution_count": 1,
   "metadata": {
    "hide_input": false,
    "slideshow": {
     "slide_type": "skip"
    }
   },
   "outputs": [],
   "source": [
    "# General imports\n",
    "import numpy as np\n",
    "import pandas as pd\n",
    "import matplotlib.pyplot as plt"
   ]
  },
  {
   "cell_type": "code",
   "execution_count": 15,
   "metadata": {},
   "outputs": [
    {
     "name": "stdout",
     "output_type": "stream",
     "text": [
      "   Id  Altitude  Slope_Orientation  Slope  Horizontal_Distance_To_Water  \\\n",
      "0  41      2699                347      3                             0   \n",
      "1  52      2739                323     25                            85   \n",
      "2  53      2696                 72      2                            30   \n",
      "3  56      2722                315     24                            30   \n",
      "4  68      2919                 13     13                            90   \n",
      "\n",
      "   Vertical_Distance_To_Water  Horizontal_Distance_To_Roadways  \\\n",
      "0                           0                             2096   \n",
      "1                          43                             3118   \n",
      "2                           0                             3271   \n",
      "3                          19                             3216   \n",
      "4                           6                             5321   \n",
      "\n",
      "   Shadow_Index_9h  Shadow_Index_12h  Shadow_Index_15h  \\\n",
      "0              213               234               159   \n",
      "1              149               205               192   \n",
      "2              222               234               149   \n",
      "3              148               212               200   \n",
      "4              207               214               142   \n",
      "\n",
      "   Horizontal_Distance_To_Fire_Points  Canopy_Density  Rainfall_Summer  \\\n",
      "0                                6853           37.32           282.46   \n",
      "1                                6219           76.51           182.57   \n",
      "2                                6071           86.37           374.79   \n",
      "3                                6132           85.31           364.30   \n",
      "4                                4060           78.13           303.26   \n",
      "\n",
      "   Rainfall_Winter  Wind_Exposure_Level Soil_Type Wilderness_Area  \\\n",
      "0           125.22                 6.23   Type_20          Area_1   \n",
      "1           532.19                30.65   Type_29          Area_1   \n",
      "2           275.52                59.96   Type_30          Area_1   \n",
      "3          1182.48                22.21   Type_16          Area_1   \n",
      "4          1198.69                14.22   Type_29          Area_1   \n",
      "\n",
      "  Vegetation_Type  \n",
      "0          Type_1  \n",
      "1          Type_1  \n",
      "2          Type_1  \n",
      "3          Type_1  \n",
      "4          Type_1  \n",
      "Total number of lines is: 4860\n"
     ]
    }
   ],
   "source": [
    "# Merge the datasets\n",
    "df1 = pd.read_csv('Data_Class_1.csv')\n",
    "df2 = pd.read_csv('Data_Class_3.csv')\n",
    "df3 = pd.read_csv('Data_Class_4.csv')\n",
    "\n",
    "# Concatenate the 3 datasets \n",
    "df = pd.concat([df1, df2, df3], ignore_index=True)\n",
    "\n",
    "# Print the first lines of the final dataset\n",
    "print(df.head())\n",
    "\n",
    "# Verify number of lines and columns of dataset\n",
    "total_lines, total_columns = df.shape\n",
    "\n",
    "# Print the total number of lines\n",
    "print(f\"Total number of lines is: {total_lines}\")\n"
   ]
  }
 ],
 "metadata": {
  "anaconda-cloud": {},
  "celltoolbar": "Slideshow",
  "kernelspec": {
   "display_name": "Python 3 (ipykernel)",
   "language": "python",
   "name": "python3"
  },
  "language_info": {
   "codemirror_mode": {
    "name": "ipython",
    "version": 3
   },
   "file_extension": ".py",
   "mimetype": "text/x-python",
   "name": "python",
   "nbconvert_exporter": "python",
   "pygments_lexer": "ipython3",
   "version": "3.12.4"
  },
  "latex_metadata": {
   "author": "Joaquin Vanschoren",
   "title": "Introduction"
  }
 },
 "nbformat": 4,
 "nbformat_minor": 4
}
